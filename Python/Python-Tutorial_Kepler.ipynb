{
 "cells": [
  {
   "cell_type": "markdown",
   "id": "021542d0-b076-48f0-8818-0a721a5d290d",
   "metadata": {},
   "source": [
    "# Python Tutorium 3: Keplerscher Flächensatz (stark elliptische Planetenbahn)"
   ]
  },
  {
   "cell_type": "markdown",
   "id": "f5173eab-51a8-4a91-b31f-6e44d5f80e2a",
   "metadata": {},
   "source": [
    "### Imports und Definition der Variablen \n",
    "\n",
    "&copy; Physik mit Python, Oliver Natt, Springer, 2022. <br>\n",
    "TUM-Studierende haben Zugang zu dem Buch über www.ub.tum.de. "
   ]
  },
  {
   "cell_type": "code",
   "execution_count": 1,
   "id": "5c55ab60-05c0-4ed1-b2bc-fbf59809dd90",
   "metadata": {},
   "outputs": [],
   "source": [
    "# Imports\n",
    "import numpy as np\n",
    "import matplotlib as mpl\n",
    "import matplotlib.pyplot as plt\n",
    "import matplotlib.animation\n",
    "import scipy.integrate\n",
    "\n",
    "# Konstanten: 1 Tag, 1 Jahr [s] und die Astronomische Einheit [m].\n",
    "tag = 24 * 60 * 60\n",
    "jahr = 365.25 * tag\n",
    "AE = 1.495978707e11\n",
    "\n",
    "# Simulationszeit und Zeitschrittweite [s].\n",
    "t_max = 3 * jahr\n",
    "dt = 0.5 * tag\n",
    "\n",
    "# Anzahl der Zeitschritte, die für die Darstellung der Fläche\n",
    "# des Fahrstrahls verwendet wird\n",
    "n_zeitschritte = 40\n",
    "\n",
    "# Anfangspositionen des Planeten [m].\n",
    "r0 = np.array([152.10e9, 0.0])\n",
    "v0 = np.array([0, 15e3])\n",
    "\n",
    "# Massen der Sonne M [kg].\n",
    "M = 1.9889e30\n",
    "\n",
    "# Gravitationskonstante [m³ / (kg * s²)].\n",
    "G = 6.6743e-11"
   ]
  },
  {
   "cell_type": "markdown",
   "id": "0c7d6b0f-bae7-45de-85ea-a7678c085834",
   "metadata": {},
   "source": [
    "### Definition von Funktionen"
   ]
  },
  {
   "cell_type": "code",
   "execution_count": 2,
   "id": "77b3f79c-428b-48d1-abc4-0e4de12b878b",
   "metadata": {},
   "outputs": [],
   "source": [
    "def dgl(t, u):\n",
    "    \"\"\"Berechne die rechte Seite der Differentialgleichung.\"\"\"\n",
    "    r, v = np.split(u, 2)\n",
    "    a = - G * M * r / np.linalg.norm(r) ** 3\n",
    "    return np.concatenate([v, a])\n",
    "\n",
    "def polygon_flaeche(x, y):\n",
    "    \"\"\"Berechne die Fläche eines Polygons.\n",
    "\n",
    "    Die Berechnung der Fläche erfolgt mithilfe der gaußschen\n",
    "    Trapezformel.\n",
    "\n",
    "    Args:\n",
    "        x (np.ndarray):\n",
    "            x-Koordinaten der Eckpunkte.\n",
    "        y (np.ndarray):\n",
    "            y-Koordinaten der Eckpunkte.\n",
    "\n",
    "    Returns:\n",
    "        float: Fläche des Polygons.\n",
    "    \"\"\"\n",
    "    return 0.5 * abs((y + np.roll(y, 1)) @ (x - np.roll(x, 1)))"
   ]
  },
  {
   "cell_type": "markdown",
   "id": "40979ecd-275a-40a8-aaed-3e7a5c1e9d48",
   "metadata": {},
   "source": [
    "### Berechnung des Orts und der Geschwindigkeit des Himmelskörpers"
   ]
  },
  {
   "cell_type": "code",
   "execution_count": 4,
   "id": "908df620-87ab-49a1-ba73-2f9032fdee40",
   "metadata": {},
   "outputs": [],
   "source": [
    "# Lege den Zustandsvektor zum Zeitpunkt t=0 fest.\n",
    "u0 = np.concatenate((r0, v0))\n",
    "\n",
    "# Löse die Bewegungsgleichung numerisch.\n",
    "result = scipy.integrate.solve_ivp(dgl, [0, t_max], u0, rtol=1e-9,\n",
    "                                   t_eval=np.arange(0, t_max, dt))\n",
    "t = result.t\n",
    "r, v = np.split(result.y, 2)"
   ]
  },
  {
   "cell_type": "markdown",
   "id": "881a9180-2973-4b97-bd60-863037b2e5d7",
   "metadata": {},
   "source": [
    "### Darstellung der Bahnkurven eines Planeten (rot) um die Sonne (gold)"
   ]
  },
  {
   "cell_type": "code",
   "execution_count": 5,
   "id": "3bfef483-828f-4182-bd24-ac43d863ba97",
   "metadata": {},
   "outputs": [
    {
     "ename": "ModuleNotFoundError",
     "evalue": "No module named 'ipympl'",
     "output_type": "error",
     "traceback": [
      "\u001b[0;31m---------------------------------------------------------------------------\u001b[0m",
      "\u001b[0;31mModuleNotFoundError\u001b[0m                       Traceback (most recent call last)",
      "Cell \u001b[0;32mIn[5], line 1\u001b[0m\n\u001b[0;32m----> 1\u001b[0m get_ipython()\u001b[38;5;241m.\u001b[39mrun_line_magic(\u001b[38;5;124m'\u001b[39m\u001b[38;5;124mmatplotlib\u001b[39m\u001b[38;5;124m'\u001b[39m, \u001b[38;5;124m'\u001b[39m\u001b[38;5;124mwidget\u001b[39m\u001b[38;5;124m'\u001b[39m)\n\u001b[1;32m      3\u001b[0m \u001b[38;5;66;03m# Erzeuge eine Figure und eine Achse.\u001b[39;00m\n\u001b[1;32m      4\u001b[0m fig \u001b[38;5;241m=\u001b[39m plt\u001b[38;5;241m.\u001b[39mfigure()\n",
      "File \u001b[0;32m~/anaconda3/lib/python3.11/site-packages/IPython/core/interactiveshell.py:2432\u001b[0m, in \u001b[0;36mInteractiveShell.run_line_magic\u001b[0;34m(self, magic_name, line, _stack_depth)\u001b[0m\n\u001b[1;32m   2430\u001b[0m     kwargs[\u001b[38;5;124m'\u001b[39m\u001b[38;5;124mlocal_ns\u001b[39m\u001b[38;5;124m'\u001b[39m] \u001b[38;5;241m=\u001b[39m \u001b[38;5;28mself\u001b[39m\u001b[38;5;241m.\u001b[39mget_local_scope(stack_depth)\n\u001b[1;32m   2431\u001b[0m \u001b[38;5;28;01mwith\u001b[39;00m \u001b[38;5;28mself\u001b[39m\u001b[38;5;241m.\u001b[39mbuiltin_trap:\n\u001b[0;32m-> 2432\u001b[0m     result \u001b[38;5;241m=\u001b[39m fn(\u001b[38;5;241m*\u001b[39margs, \u001b[38;5;241m*\u001b[39m\u001b[38;5;241m*\u001b[39mkwargs)\n\u001b[1;32m   2434\u001b[0m \u001b[38;5;66;03m# The code below prevents the output from being displayed\u001b[39;00m\n\u001b[1;32m   2435\u001b[0m \u001b[38;5;66;03m# when using magics with decorator @output_can_be_silenced\u001b[39;00m\n\u001b[1;32m   2436\u001b[0m \u001b[38;5;66;03m# when the last Python token in the expression is a ';'.\u001b[39;00m\n\u001b[1;32m   2437\u001b[0m \u001b[38;5;28;01mif\u001b[39;00m \u001b[38;5;28mgetattr\u001b[39m(fn, magic\u001b[38;5;241m.\u001b[39mMAGIC_OUTPUT_CAN_BE_SILENCED, \u001b[38;5;28;01mFalse\u001b[39;00m):\n",
      "File \u001b[0;32m~/anaconda3/lib/python3.11/site-packages/IPython/core/magics/pylab.py:99\u001b[0m, in \u001b[0;36mPylabMagics.matplotlib\u001b[0;34m(self, line)\u001b[0m\n\u001b[1;32m     97\u001b[0m     \u001b[38;5;28mprint\u001b[39m(\u001b[38;5;124m\"\u001b[39m\u001b[38;5;124mAvailable matplotlib backends: \u001b[39m\u001b[38;5;132;01m%s\u001b[39;00m\u001b[38;5;124m\"\u001b[39m \u001b[38;5;241m%\u001b[39m backends_list)\n\u001b[1;32m     98\u001b[0m \u001b[38;5;28;01melse\u001b[39;00m:\n\u001b[0;32m---> 99\u001b[0m     gui, backend \u001b[38;5;241m=\u001b[39m \u001b[38;5;28mself\u001b[39m\u001b[38;5;241m.\u001b[39mshell\u001b[38;5;241m.\u001b[39menable_matplotlib(args\u001b[38;5;241m.\u001b[39mgui\u001b[38;5;241m.\u001b[39mlower() \u001b[38;5;28;01mif\u001b[39;00m \u001b[38;5;28misinstance\u001b[39m(args\u001b[38;5;241m.\u001b[39mgui, \u001b[38;5;28mstr\u001b[39m) \u001b[38;5;28;01melse\u001b[39;00m args\u001b[38;5;241m.\u001b[39mgui)\n\u001b[1;32m    100\u001b[0m     \u001b[38;5;28mself\u001b[39m\u001b[38;5;241m.\u001b[39m_show_matplotlib_backend(args\u001b[38;5;241m.\u001b[39mgui, backend)\n",
      "File \u001b[0;32m~/anaconda3/lib/python3.11/site-packages/IPython/core/interactiveshell.py:3621\u001b[0m, in \u001b[0;36mInteractiveShell.enable_matplotlib\u001b[0;34m(self, gui)\u001b[0m\n\u001b[1;32m   3617\u001b[0m         \u001b[38;5;28mprint\u001b[39m(\u001b[38;5;124m'\u001b[39m\u001b[38;5;124mWarning: Cannot change to a different GUI toolkit: \u001b[39m\u001b[38;5;132;01m%s\u001b[39;00m\u001b[38;5;124m.\u001b[39m\u001b[38;5;124m'\u001b[39m\n\u001b[1;32m   3618\u001b[0m                 \u001b[38;5;124m'\u001b[39m\u001b[38;5;124m Using \u001b[39m\u001b[38;5;132;01m%s\u001b[39;00m\u001b[38;5;124m instead.\u001b[39m\u001b[38;5;124m'\u001b[39m \u001b[38;5;241m%\u001b[39m (gui, \u001b[38;5;28mself\u001b[39m\u001b[38;5;241m.\u001b[39mpylab_gui_select))\n\u001b[1;32m   3619\u001b[0m         gui, backend \u001b[38;5;241m=\u001b[39m pt\u001b[38;5;241m.\u001b[39mfind_gui_and_backend(\u001b[38;5;28mself\u001b[39m\u001b[38;5;241m.\u001b[39mpylab_gui_select)\n\u001b[0;32m-> 3621\u001b[0m pt\u001b[38;5;241m.\u001b[39mactivate_matplotlib(backend)\n\u001b[1;32m   3622\u001b[0m configure_inline_support(\u001b[38;5;28mself\u001b[39m, backend)\n\u001b[1;32m   3624\u001b[0m \u001b[38;5;66;03m# Now we must activate the gui pylab wants to use, and fix %run to take\u001b[39;00m\n\u001b[1;32m   3625\u001b[0m \u001b[38;5;66;03m# plot updates into account\u001b[39;00m\n",
      "File \u001b[0;32m~/anaconda3/lib/python3.11/site-packages/IPython/core/pylabtools.py:368\u001b[0m, in \u001b[0;36mactivate_matplotlib\u001b[0;34m(backend)\u001b[0m\n\u001b[1;32m    363\u001b[0m \u001b[38;5;66;03m# Due to circular imports, pyplot may be only partially initialised\u001b[39;00m\n\u001b[1;32m    364\u001b[0m \u001b[38;5;66;03m# when this function runs.\u001b[39;00m\n\u001b[1;32m    365\u001b[0m \u001b[38;5;66;03m# So avoid needing matplotlib attribute-lookup to access pyplot.\u001b[39;00m\n\u001b[1;32m    366\u001b[0m \u001b[38;5;28;01mfrom\u001b[39;00m \u001b[38;5;21;01mmatplotlib\u001b[39;00m \u001b[38;5;28;01mimport\u001b[39;00m pyplot \u001b[38;5;28;01mas\u001b[39;00m plt\n\u001b[0;32m--> 368\u001b[0m plt\u001b[38;5;241m.\u001b[39mswitch_backend(backend)\n\u001b[1;32m    370\u001b[0m plt\u001b[38;5;241m.\u001b[39mshow\u001b[38;5;241m.\u001b[39m_needmain \u001b[38;5;241m=\u001b[39m \u001b[38;5;28;01mFalse\u001b[39;00m\n\u001b[1;32m    371\u001b[0m \u001b[38;5;66;03m# We need to detect at runtime whether show() is called by the user.\u001b[39;00m\n\u001b[1;32m    372\u001b[0m \u001b[38;5;66;03m# For this, we wrap it into a decorator which adds a 'called' flag.\u001b[39;00m\n",
      "File \u001b[0;32m~/anaconda3/lib/python3.11/site-packages/matplotlib/pyplot.py:271\u001b[0m, in \u001b[0;36mswitch_backend\u001b[0;34m(newbackend)\u001b[0m\n\u001b[1;32m    268\u001b[0m \u001b[38;5;66;03m# have to escape the switch on access logic\u001b[39;00m\n\u001b[1;32m    269\u001b[0m old_backend \u001b[38;5;241m=\u001b[39m \u001b[38;5;28mdict\u001b[39m\u001b[38;5;241m.\u001b[39m\u001b[38;5;21m__getitem__\u001b[39m(rcParams, \u001b[38;5;124m'\u001b[39m\u001b[38;5;124mbackend\u001b[39m\u001b[38;5;124m'\u001b[39m)\n\u001b[0;32m--> 271\u001b[0m backend_mod \u001b[38;5;241m=\u001b[39m importlib\u001b[38;5;241m.\u001b[39mimport_module(\n\u001b[1;32m    272\u001b[0m     cbook\u001b[38;5;241m.\u001b[39m_backend_module_name(newbackend))\n\u001b[1;32m    274\u001b[0m required_framework \u001b[38;5;241m=\u001b[39m _get_required_interactive_framework(backend_mod)\n\u001b[1;32m    275\u001b[0m \u001b[38;5;28;01mif\u001b[39;00m required_framework \u001b[38;5;129;01mis\u001b[39;00m \u001b[38;5;129;01mnot\u001b[39;00m \u001b[38;5;28;01mNone\u001b[39;00m:\n",
      "File \u001b[0;32m~/anaconda3/lib/python3.11/importlib/__init__.py:126\u001b[0m, in \u001b[0;36mimport_module\u001b[0;34m(name, package)\u001b[0m\n\u001b[1;32m    124\u001b[0m             \u001b[38;5;28;01mbreak\u001b[39;00m\n\u001b[1;32m    125\u001b[0m         level \u001b[38;5;241m+\u001b[39m\u001b[38;5;241m=\u001b[39m \u001b[38;5;241m1\u001b[39m\n\u001b[0;32m--> 126\u001b[0m \u001b[38;5;28;01mreturn\u001b[39;00m _bootstrap\u001b[38;5;241m.\u001b[39m_gcd_import(name[level:], package, level)\n",
      "File \u001b[0;32m<frozen importlib._bootstrap>:1204\u001b[0m, in \u001b[0;36m_gcd_import\u001b[0;34m(name, package, level)\u001b[0m\n",
      "File \u001b[0;32m<frozen importlib._bootstrap>:1176\u001b[0m, in \u001b[0;36m_find_and_load\u001b[0;34m(name, import_)\u001b[0m\n",
      "File \u001b[0;32m<frozen importlib._bootstrap>:1126\u001b[0m, in \u001b[0;36m_find_and_load_unlocked\u001b[0;34m(name, import_)\u001b[0m\n",
      "File \u001b[0;32m<frozen importlib._bootstrap>:241\u001b[0m, in \u001b[0;36m_call_with_frames_removed\u001b[0;34m(f, *args, **kwds)\u001b[0m\n",
      "File \u001b[0;32m<frozen importlib._bootstrap>:1204\u001b[0m, in \u001b[0;36m_gcd_import\u001b[0;34m(name, package, level)\u001b[0m\n",
      "File \u001b[0;32m<frozen importlib._bootstrap>:1176\u001b[0m, in \u001b[0;36m_find_and_load\u001b[0;34m(name, import_)\u001b[0m\n",
      "File \u001b[0;32m<frozen importlib._bootstrap>:1140\u001b[0m, in \u001b[0;36m_find_and_load_unlocked\u001b[0;34m(name, import_)\u001b[0m\n",
      "\u001b[0;31mModuleNotFoundError\u001b[0m: No module named 'ipympl'"
     ]
    }
   ],
   "source": [
    "%matplotlib widget\n",
    "\n",
    "# Erzeuge eine Figure und eine Achse.\n",
    "fig = plt.figure()\n",
    "ax = fig.add_subplot(1, 1, 1)\n",
    "ax.set_aspect('equal')\n",
    "ax.set_xlabel('$x$ [AE]')\n",
    "ax.set_ylabel('$y$ [AE]')\n",
    "ax.grid()\n",
    "\n",
    "# Plotte die Bahnkurve des Himmelskörpers.\n",
    "ax.plot(r[0] / AE, r[1] / AE, '-b')\n",
    "\n",
    "# Erzeuge Punktplots für die Positionen der Himmelskörper.\n",
    "plot_planet, = ax.plot([], [], 'o', color='red')\n",
    "plot_sonne, = ax.plot([0], [0], 'o', color='gold')\n",
    "\n",
    "# Erzeuge ein Polygon zur Darstellung der überstrichenen Fläche\n",
    "# und füge dieses der Axes hinzu.\n",
    "plot_flaeche = mpl.patches.Polygon([[0, 0], [0, 0]], closed=True,\n",
    "                                   alpha=0.5, facecolor='red')\n",
    "ax.add_patch(plot_flaeche)\n",
    "\n",
    "# Erzeuge zwei Textfelder für die Angabe der verstrichenen Zeit\n",
    "# und die berechnete Fläche.\n",
    "text_t = ax.text(0.01, 0.95, '', color='black',\n",
    "                 transform=ax.transAxes)\n",
    "text_flaeche = ax.text(0.01, 0.90, '', color='black',\n",
    "                       transform=ax.transAxes)\n",
    "\n",
    "def update(n):\n",
    "    \"\"\"Aktualisiere die Grafik zum n-ten Zeitschritt.\"\"\"\n",
    "    # Aktualisiere die Position des Himmelskörpers.\n",
    "    plot_planet.set_data(r[:, n].reshape(-1, 1) / AE)\n",
    "\n",
    "    # Aktualisiere des Polygon und die Angabe der Fläche.\n",
    "    if n >= n_zeitschritte:\n",
    "        # Erzeuge ein (n_zeitschritte + 2) × 2 - Array. Als\n",
    "        # ersten Punkt enthält dies die Position (0, 0) der Sonne\n",
    "        # und die weiteren Punkte sind vergangenen\n",
    "        # n_zeitschritte+1 Punkte der Bahnkurve des Planeten.\n",
    "        xy = np.zeros((n_zeitschritte + 2, 2))\n",
    "        xy[1:, :] = r[:, (n - n_zeitschritte):(n + 1)].T / AE\n",
    "        plot_flaeche.set_xy(xy)\n",
    "\n",
    "        # Berechne die Fläche des Polygons und gib diese aus.\n",
    "        A = polygon_flaeche(xy[:, 0], xy[:, 1])\n",
    "        text_flaeche.set_text(f'$A$ = {A:.2e} AE²')\n",
    "    else:\n",
    "        # Zu Beginn der Animation kann noch keine Fläche\n",
    "        # dargestellt werden.\n",
    "        plot_flaeche.set_xy([[0, 0], [0, 0]])\n",
    "        text_flaeche.set_text('')\n",
    "\n",
    "    # Aktualisiere das Textfeld für die Zeit.\n",
    "    text_t.set_text(f'$t$ = {t[n] / tag:.0f} d')\n",
    "\n",
    "    return plot_planet, text_t, text_flaeche, plot_flaeche\n",
    "\n",
    "\n",
    "# Erzeuge das Animationsobjekt und starte die Animation.\n",
    "ani = mpl.animation.FuncAnimation(fig, update, frames=t.size,\n",
    "                                  interval=30, blit=True)\n",
    "plt.show()"
   ]
  },
  {
   "cell_type": "markdown",
   "id": "96335086",
   "metadata": {},
   "source": [
    "# Copyright\n",
    "\n",
    "&copy; Physik mit Python, Oliver Natt, Springer, 2022. <br>\n",
    "TUM-Studierende haben Zugang zu dem Buch über www.ub.tum.de. \n",
    "\n",
    "Copyright (c) 2023 Springer Nature Code Inside\n",
    "\n",
    "Permission is hereby granted, free of charge, to any person obtaining a copy of this software and associated documentation files (the \"Software\"), to deal in the Software without restriction, including without limitation the rights to use, copy, modify, merge, publish, distribute, sublicense, and/or sell copies of the Software, and to permit persons to whom the Software is furnished to do so, subject to the following conditions:\n",
    "\n",
    "The above copyright notice and this permission notice shall be included in all copies or substantial portions of the Software.\n",
    "\n",
    "THE SOFTWARE IS PROVIDED \"AS IS\", WITHOUT WARRANTY OF ANY KIND, EXPRESS OR IMPLIED, INCLUDING BUT NOT LIMITED TO THE WARRANTIES OF MERCHANTABILITY, FITNESS FOR A PARTICULAR PURPOSE AND NONINFRINGEMENT. IN NO EVENT SHALL THE AUTHORS OR COPYRIGHT HOLDERS BE LIABLE FOR ANY CLAIM, DAMAGES OR OTHER LIABILITY, WHETHER IN AN ACTION OF CONTRACT, TORT OR OTHERWISE, ARISING FROM, OUT OF OR IN CONNECTION WITH THE SOFTWARE OR THE USE OR OTHER DEALINGS IN THE SOFTWARE.\n"
   ]
  },
  {
   "cell_type": "code",
   "execution_count": null,
   "id": "58221e78-38bb-4dd5-9ed1-b6a0e95ec590",
   "metadata": {},
   "outputs": [],
   "source": []
  }
 ],
 "metadata": {
  "kernelspec": {
   "display_name": "Python 3 (ipykernel)",
   "language": "python",
   "name": "python3"
  },
  "language_info": {
   "codemirror_mode": {
    "name": "ipython",
    "version": 3
   },
   "file_extension": ".py",
   "mimetype": "text/x-python",
   "name": "python",
   "nbconvert_exporter": "python",
   "pygments_lexer": "ipython3",
   "version": "3.11.5"
  }
 },
 "nbformat": 4,
 "nbformat_minor": 5
}
